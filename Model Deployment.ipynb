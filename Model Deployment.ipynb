{
 "cells": [
  {
   "cell_type": "code",
   "execution_count": 1,
   "id": "325d4fa2",
   "metadata": {},
   "outputs": [],
   "source": [
    "from flask import Flask, render_template, request\n",
    "import joblib"
   ]
  },
  {
   "cell_type": "code",
   "execution_count": 2,
   "id": "824e3fea",
   "metadata": {},
   "outputs": [
    {
     "data": {
      "text/plain": [
       "RandomForestRegressor()"
      ]
     },
     "execution_count": 2,
     "metadata": {},
     "output_type": "execute_result"
    }
   ],
   "source": [
    "model = joblib.load('model.pkl')\n",
    "model"
   ]
  },
  {
   "cell_type": "code",
   "execution_count": 3,
   "id": "b569ca67",
   "metadata": {},
   "outputs": [],
   "source": [
    "app = Flask(__name__)"
   ]
  },
  {
   "cell_type": "code",
   "execution_count": 4,
   "id": "65d60c58",
   "metadata": {},
   "outputs": [],
   "source": [
    "items = ['Cassava', 'Maize', 'Plantains and others', 'Potatoes',\n",
    "        'Rice, paddy', 'Sorghum', 'Soybeans', 'Sweet potatoes', 'Wheat',\n",
    "        'Yams']\n",
    "areas = ['Albania', 'Algeria', 'Angola', 'Argentina', 'Armenia',\n",
    "        'Australia', 'Austria', 'Azerbaijan', 'Bahamas', 'Bahrain',\n",
    "        'Bangladesh', 'Belarus', 'Belgium', 'Botswana', 'Brazil',\n",
    "        'Bulgaria', 'Burkina Faso', 'Burundi', 'Cameroon', 'Canada',\n",
    "        'Central African Republic', 'Chile', 'Colombia', 'Croatia',\n",
    "        'Denmark', 'Dominican Republic', 'Ecuador', 'Egypt', 'El Salvador',\n",
    "        'Eritrea', 'Estonia', 'Finland', 'France', 'Germany', 'Ghana',\n",
    "        'Greece', 'Guatemala', 'Guinea', 'Guyana', 'Haiti', 'Honduras',\n",
    "        'Hungary', 'India', 'Indonesia', 'Iraq', 'Ireland', 'Italy',\n",
    "        'Jamaica', 'Japan', 'Kazakhstan', 'Kenya', 'Latvia', 'Lebanon',\n",
    "        'Lesotho', 'Libya', 'Lithuania', 'Madagascar', 'Malawi',\n",
    "        'Malaysia', 'Mali', 'Mauritania', 'Mauritius', 'Mexico',\n",
    "        'Montenegro', 'Morocco', 'Mozambique', 'Namibia', 'Nepal',\n",
    "        'Netherlands', 'New Zealand', 'Nicaragua', 'Niger', 'Norway',\n",
    "        'Pakistan', 'Papua New Guinea', 'Peru', 'Poland', 'Portugal',\n",
    "        'Qatar', 'Romania', 'Rwanda', 'Saudi Arabia', 'Senegal',\n",
    "        'Slovenia', 'South Africa', 'Spain', 'Sri Lanka', 'Sudan',\n",
    "        'Suriname', 'Sweden', 'Switzerland', 'Tajikistan', 'Thailand',\n",
    "        'Tunisia', 'Turkey', 'Uganda', 'Ukraine', 'United Kingdom',\n",
    "        'Uruguay', 'Zambia', 'Zimbabwe']\n",
    "val1 = [0, 1, 2, 3, 4, 5, 6, 7, 8, 9]\n",
    "val2 = [0,   1,   2,   3,   4,   5,   6,   7,   8,   9,  10,  11,  12,\n",
    "         13,  14,  15,  16,  17,  18,  19,  20,  21,  22,  23,  24,  25,\n",
    "         26,  27,  28,  29,  30,  31,  32,  33,  34,  35,  36,  37,  38,\n",
    "         39,  40,  41,  42,  43,  44,  45,  46,  47,  48,  49,  50,  51,\n",
    "         52,  53,  54,  55,  56,  57,  58,  59,  60,  61,  62,  63,  64,\n",
    "         65,  66,  67,  68,  69,  70,  71,  72,  73,  74,  75,  76,  77,\n",
    "         78,  79,  80,  81,  82,  83,  84,  85,  86,  87,  88,  89,  90,\n",
    "         91,  92,  93,  94,  95,  96,  97,  98,  99, 100]\n",
    "crops = dict(zip(items,val1))\n",
    "nations = dict(zip(areas,val2))"
   ]
  },
  {
   "cell_type": "code",
   "execution_count": 5,
   "id": "b8ae1ee2",
   "metadata": {},
   "outputs": [],
   "source": [
    "@app.route(\"/\")\n",
    "def home():\n",
    "    return render_template('home.html',regions=nations,items=crops)"
   ]
  },
  {
   "cell_type": "code",
   "execution_count": 6,
   "id": "d95c17d0",
   "metadata": {},
   "outputs": [],
   "source": [
    "@app.route(\"/predict\", methods=['GET','POST'])\n",
    "def predict():\n",
    "    country = request.form['area']\n",
    "    area = nations[country]\n",
    "    crop = request.form['item']\n",
    "    item = crops[crop]\n",
    "    year = request.form['year']\n",
    "    rainfall = request.form['avg_annual_rainfall_mm']\n",
    "    pesticides = request.form['pesticides_tonnes']\n",
    "    temp = request.form['avg_temp']\n",
    "    \n",
    "    predictions = model.predict([[\n",
    "        area,\n",
    "        item,\n",
    "        year,\n",
    "        rainfall,\n",
    "        pesticides,\n",
    "        temp\n",
    "    ]])\n",
    "    \n",
    "    output = predictions[0]*69979.655\n",
    "    output = abs(round(output,2))\n",
    "    output = format(output,',')\n",
    "    return render_template('home.html',prediction_text=\"Your net crop area yield is {} square feet.\".format(output),regions=nations,items=crops)"
   ]
  },
  {
   "cell_type": "code",
   "execution_count": null,
   "id": "60dd17d9",
   "metadata": {},
   "outputs": [
    {
     "name": "stdout",
     "output_type": "stream",
     "text": [
      " * Serving Flask app '__main__' (lazy loading)\n",
      " * Environment: production\n",
      "\u001b[31m   WARNING: This is a development server. Do not use it in a production deployment.\u001b[0m\n",
      "\u001b[2m   Use a production WSGI server instead.\u001b[0m\n",
      " * Debug mode: off\n"
     ]
    },
    {
     "name": "stderr",
     "output_type": "stream",
     "text": [
      " * Running on http://127.0.0.1:8080/ (Press CTRL+C to quit)\n",
      "127.0.0.1 - - [29/May/2022 01:58:14] \"GET / HTTP/1.1\" 200 -\n",
      "127.0.0.1 - - [29/May/2022 01:58:53] \"POST /predict HTTP/1.1\" 200 -\n",
      "127.0.0.1 - - [29/May/2022 01:59:34] \"POST /predict HTTP/1.1\" 200 -\n",
      "127.0.0.1 - - [29/May/2022 02:00:22] \"POST /predict HTTP/1.1\" 200 -\n",
      "127.0.0.1 - - [29/May/2022 02:01:16] \"POST /predict HTTP/1.1\" 200 -\n",
      "127.0.0.1 - - [29/May/2022 02:02:07] \"POST /predict HTTP/1.1\" 200 -\n",
      "127.0.0.1 - - [29/May/2022 02:02:49] \"POST /predict HTTP/1.1\" 200 -\n",
      "127.0.0.1 - - [29/May/2022 02:03:31] \"POST /predict HTTP/1.1\" 200 -\n",
      "127.0.0.1 - - [29/May/2022 02:04:05] \"POST /predict HTTP/1.1\" 200 -\n",
      "127.0.0.1 - - [29/May/2022 02:04:43] \"POST /predict HTTP/1.1\" 200 -\n",
      "127.0.0.1 - - [29/May/2022 02:05:21] \"POST /predict HTTP/1.1\" 200 -\n",
      "127.0.0.1 - - [29/May/2022 02:06:00] \"POST /predict HTTP/1.1\" 200 -\n",
      "127.0.0.1 - - [29/May/2022 02:06:55] \"POST /predict HTTP/1.1\" 200 -\n",
      "127.0.0.1 - - [29/May/2022 02:07:37] \"POST /predict HTTP/1.1\" 200 -\n"
     ]
    }
   ],
   "source": [
    "if __name__ == '__main__':\n",
    "    app.run(port=8080)"
   ]
  }
 ],
 "metadata": {
  "kernelspec": {
   "display_name": "Python 3 (ipykernel)",
   "language": "python",
   "name": "python3"
  },
  "language_info": {
   "codemirror_mode": {
    "name": "ipython",
    "version": 3
   },
   "file_extension": ".py",
   "mimetype": "text/x-python",
   "name": "python",
   "nbconvert_exporter": "python",
   "pygments_lexer": "ipython3",
   "version": "3.8.8"
  }
 },
 "nbformat": 4,
 "nbformat_minor": 5
}
